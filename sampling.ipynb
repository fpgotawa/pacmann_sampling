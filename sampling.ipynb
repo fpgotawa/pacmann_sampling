{
 "cells": [
  {
   "cell_type": "code",
   "execution_count": 44,
   "metadata": {},
   "outputs": [],
   "source": [
    "import numpy as np\n",
    "import pandas as pd\n",
    "import math\n",
    "import random\n",
    "import scipy.stats as stats"
   ]
  },
  {
   "attachments": {},
   "cell_type": "markdown",
   "metadata": {},
   "source": [
    "### Data"
   ]
  },
  {
   "cell_type": "code",
   "execution_count": 45,
   "metadata": {},
   "outputs": [],
   "source": [
    "df = pd.read_csv('data.csv') #read data csv\n",
    "\n",
    "df.drop(columns=['kode_provinsi', 'nama_provinsi', 'bps_kode_kabupaten_kota',\n",
    "       'bps_kode_kecamatan', 'bps_kode_desa_kelurahan',\n",
    "       'kemendagri_kode_kecamatan', 'kemendagri_nama_kecamatan',\n",
    "       'kemendagri_kode_desa_kelurahan', 'kemendagri_nama_desa_kelurahan',\n",
    "       'tahun', 'id'], inplace=True) #menghapus kolom yang tidak diperlukan\n",
    "\n",
    "df.rename(columns={'bps_nama_kabupaten_kota':'kabupaten', 'bps_nama_kecamatan':'kecamatan', 'bps_nama_desa_kelurahan':'kelurahan', 'waktu_tempuh_puskes_inap':'waktu_tempuh'}, inplace=True) #mengganti nama kolom untuk mempermudah"
   ]
  },
  {
   "cell_type": "code",
   "execution_count": 46,
   "metadata": {},
   "outputs": [],
   "source": [
    "# daftar seluruh kecamatan di kab. karawang\n",
    "list_kecamatan = ['PANGKALAN', 'TELUKJAMBE TIMUR', 'CIAMPEL', 'KLARI',\n",
    "       'RENGASDENGKLOK', 'KUTAWALUYA', 'BATUJAYA', 'TIRTAJAYA', 'PEDES',\n",
    "       'CIBUAYA', 'PAKISJAYA', 'CIKAMPEK', 'JATISARI', 'CILAMAYA WETAN',\n",
    "       'TIRTAMULYA', 'TELAGASARI', 'RAWAMERTA', 'LEMAHABANG', 'TEMPURAN',\n",
    "       'MAJALAYA', 'JAYAKERTA', 'CILAMAYA KULON', 'BANYUSARI',\n",
    "       'KOTA BARU', 'KARAWANG TIMUR', 'TELUKJAMBE BARAT', 'TEGALWARU',\n",
    "       'PURWASARI', 'CILEBAR']"
   ]
  },
  {
   "attachments": {},
   "cell_type": "markdown",
   "metadata": {},
   "source": [
    "### Pra Survey"
   ]
  },
  {
   "cell_type": "code",
   "execution_count": 47,
   "metadata": {},
   "outputs": [
    {
     "data": {
      "text/html": [
       "<div>\n",
       "<style scoped>\n",
       "    .dataframe tbody tr th:only-of-type {\n",
       "        vertical-align: middle;\n",
       "    }\n",
       "\n",
       "    .dataframe tbody tr th {\n",
       "        vertical-align: top;\n",
       "    }\n",
       "\n",
       "    .dataframe thead th {\n",
       "        text-align: right;\n",
       "    }\n",
       "</style>\n",
       "<table border=\"1\" class=\"dataframe\">\n",
       "  <thead>\n",
       "    <tr style=\"text-align: right;\">\n",
       "      <th></th>\n",
       "      <th>kelurahan (Mi)</th>\n",
       "      <th>waktu_tempuh (yi)</th>\n",
       "    </tr>\n",
       "    <tr>\n",
       "      <th>kecamatan</th>\n",
       "      <th></th>\n",
       "      <th></th>\n",
       "    </tr>\n",
       "  </thead>\n",
       "  <tbody>\n",
       "    <tr>\n",
       "      <th>CIKAMPEK</th>\n",
       "      <td>10</td>\n",
       "      <td>82.0</td>\n",
       "    </tr>\n",
       "    <tr>\n",
       "      <th>KUTAWALUYA</th>\n",
       "      <td>12</td>\n",
       "      <td>99.0</td>\n",
       "    </tr>\n",
       "    <tr>\n",
       "      <th>MAJALAYA</th>\n",
       "      <td>7</td>\n",
       "      <td>120.0</td>\n",
       "    </tr>\n",
       "    <tr>\n",
       "      <th>PEDES</th>\n",
       "      <td>12</td>\n",
       "      <td>391.0</td>\n",
       "    </tr>\n",
       "    <tr>\n",
       "      <th>RENGASDENGKLOK</th>\n",
       "      <td>9</td>\n",
       "      <td>180.0</td>\n",
       "    </tr>\n",
       "    <tr>\n",
       "      <th>TIRTAMULYA</th>\n",
       "      <td>10</td>\n",
       "      <td>241.0</td>\n",
       "    </tr>\n",
       "  </tbody>\n",
       "</table>\n",
       "</div>"
      ],
      "text/plain": [
       "                kelurahan (Mi)  waktu_tempuh (yi)\n",
       "kecamatan                                        \n",
       "CIKAMPEK                    10               82.0\n",
       "KUTAWALUYA                  12               99.0\n",
       "MAJALAYA                     7              120.0\n",
       "PEDES                       12              391.0\n",
       "RENGASDENGKLOK               9              180.0\n",
       "TIRTAMULYA                  10              241.0"
      ]
     },
     "execution_count": 47,
     "metadata": {},
     "output_type": "execute_result"
    }
   ],
   "source": [
    "# read data pra survey\n",
    "pra_survey = pd.read_csv('pra_survey.csv')\n",
    "\n",
    "# buat tabel\n",
    "pra_survey = pra_survey.groupby('kecamatan').agg({'kelurahan':'count','waktu_tempuh':sum}).rename(columns={'kelurahan':'kelurahan (Mi)','waktu_tempuh':'waktu_tempuh (yi)'})\n",
    "\n",
    "# tampilkan\n",
    "pra_survey"
   ]
  },
  {
   "attachments": {},
   "cell_type": "markdown",
   "metadata": {},
   "source": [
    "### Menentukan Ukuran Sampel"
   ]
  },
  {
   "cell_type": "code",
   "execution_count": 48,
   "metadata": {},
   "outputs": [
    {
     "name": "stdout",
     "output_type": "stream",
     "text": [
      "Nilai D adalah sebesar 74.32\n"
     ]
    }
   ],
   "source": [
    "# hitung nilai D\n",
    "N = 29 # jumlah seluruh kecamatan\n",
    "B = 500 # bound of error\n",
    "\n",
    "D = (B**2)/(4*(N**2))\n",
    "\n",
    "print(f\"Nilai D adalah sebesar {D:.2f}\")"
   ]
  },
  {
   "cell_type": "code",
   "execution_count": 49,
   "metadata": {},
   "outputs": [],
   "source": [
    "# hitung nilai r/mu\n",
    "Mu = pra_survey['waktu_tempuh (yi)'].sum() / pra_survey['kelurahan (Mi)'].sum()"
   ]
  },
  {
   "cell_type": "code",
   "execution_count": 50,
   "metadata": {},
   "outputs": [],
   "source": [
    "# kolom pembantu untuk menghitung varians\n",
    "pra_survey['Mu_Mi'] = pra_survey['kelurahan (Mi)'] * Mu\n",
    "pra_survey['yi-Mu_Mi'] = pra_survey['waktu_tempuh (yi)'] - pra_survey['Mu_Mi']\n",
    "pra_survey['yi-Mu_Mi^2'] = pra_survey['yi-Mu_Mi'] ** 2\n"
   ]
  },
  {
   "cell_type": "code",
   "execution_count": 51,
   "metadata": {},
   "outputs": [
    {
     "name": "stdout",
     "output_type": "stream",
     "text": [
      "Nilai varians adalah sebesar 2060.55\n"
     ]
    }
   ],
   "source": [
    "# hitung varians\n",
    "varians = pra_survey['yi-Mu_Mi^2'].sum() / (N-1)\n",
    "varians\n",
    "\n",
    "print(f\"Nilai varians adalah sebesar {varians:.2f}\")"
   ]
  },
  {
   "cell_type": "code",
   "execution_count": 52,
   "metadata": {},
   "outputs": [
    {
     "name": "stdout",
     "output_type": "stream",
     "text": [
      "Ukuran sampel yang akan diambil adalah sebesar 15 cluster\n"
     ]
    }
   ],
   "source": [
    "# hitung ukuran sampel\n",
    "n = (N * varians) / ((N * D) + varians)\n",
    "n = math.ceil(n)\n",
    "\n",
    "print(f\"Ukuran sampel yang akan diambil adalah sebesar {n} cluster\")"
   ]
  },
  {
   "cell_type": "code",
   "execution_count": 160,
   "metadata": {},
   "outputs": [
    {
     "data": {
      "text/plain": [
       "['JATISARI',\n",
       " 'KARAWANG TIMUR',\n",
       " 'TEGALWARU',\n",
       " 'PANGKALAN',\n",
       " 'BATUJAYA',\n",
       " 'CIBUAYA',\n",
       " 'JAYAKERTA',\n",
       " 'TELAGASARI',\n",
       " 'TELUKJAMBE TIMUR',\n",
       " 'PEDES',\n",
       " 'BANYUSARI',\n",
       " 'KOTA BARU',\n",
       " 'CILAMAYA WETAN',\n",
       " 'KLARI',\n",
       " 'LEMAHABANG']"
      ]
     },
     "execution_count": 160,
     "metadata": {},
     "output_type": "execute_result"
    }
   ],
   "source": [
    "random.seed(25)\n",
    "list_sample = random.sample(list_kecamatan, k=n)\n",
    "list_sample"
   ]
  },
  {
   "attachments": {},
   "cell_type": "markdown",
   "metadata": {},
   "source": [
    "### Penaksiran Parameter"
   ]
  },
  {
   "attachments": {},
   "cell_type": "markdown",
   "metadata": {},
   "source": [
    "#### Rata-rata"
   ]
  },
  {
   "cell_type": "code",
   "execution_count": 161,
   "metadata": {},
   "outputs": [
    {
     "data": {
      "text/html": [
       "<div>\n",
       "<style scoped>\n",
       "    .dataframe tbody tr th:only-of-type {\n",
       "        vertical-align: middle;\n",
       "    }\n",
       "\n",
       "    .dataframe tbody tr th {\n",
       "        vertical-align: top;\n",
       "    }\n",
       "\n",
       "    .dataframe thead th {\n",
       "        text-align: right;\n",
       "    }\n",
       "</style>\n",
       "<table border=\"1\" class=\"dataframe\">\n",
       "  <thead>\n",
       "    <tr style=\"text-align: right;\">\n",
       "      <th></th>\n",
       "      <th>kelurahan (Mi)</th>\n",
       "      <th>waktu_tempuh (yi)</th>\n",
       "    </tr>\n",
       "    <tr>\n",
       "      <th>kecamatan</th>\n",
       "      <th></th>\n",
       "      <th></th>\n",
       "    </tr>\n",
       "  </thead>\n",
       "  <tbody>\n",
       "    <tr>\n",
       "      <th>BANYUSARI</th>\n",
       "      <td>12</td>\n",
       "      <td>202.0</td>\n",
       "    </tr>\n",
       "    <tr>\n",
       "      <th>BATUJAYA</th>\n",
       "      <td>10</td>\n",
       "      <td>129.0</td>\n",
       "    </tr>\n",
       "    <tr>\n",
       "      <th>CIBUAYA</th>\n",
       "      <td>11</td>\n",
       "      <td>182.0</td>\n",
       "    </tr>\n",
       "    <tr>\n",
       "      <th>CILAMAYA WETAN</th>\n",
       "      <td>12</td>\n",
       "      <td>108.0</td>\n",
       "    </tr>\n",
       "    <tr>\n",
       "      <th>JATISARI</th>\n",
       "      <td>14</td>\n",
       "      <td>160.0</td>\n",
       "    </tr>\n",
       "    <tr>\n",
       "      <th>JAYAKERTA</th>\n",
       "      <td>8</td>\n",
       "      <td>75.0</td>\n",
       "    </tr>\n",
       "    <tr>\n",
       "      <th>KARAWANG TIMUR</th>\n",
       "      <td>4</td>\n",
       "      <td>15.0</td>\n",
       "    </tr>\n",
       "    <tr>\n",
       "      <th>KLARI</th>\n",
       "      <td>13</td>\n",
       "      <td>145.0</td>\n",
       "    </tr>\n",
       "    <tr>\n",
       "      <th>KOTA BARU</th>\n",
       "      <td>9</td>\n",
       "      <td>26.0</td>\n",
       "    </tr>\n",
       "    <tr>\n",
       "      <th>LEMAHABANG</th>\n",
       "      <td>11</td>\n",
       "      <td>75.0</td>\n",
       "    </tr>\n",
       "    <tr>\n",
       "      <th>PANGKALAN</th>\n",
       "      <td>8</td>\n",
       "      <td>220.0</td>\n",
       "    </tr>\n",
       "    <tr>\n",
       "      <th>PEDES</th>\n",
       "      <td>12</td>\n",
       "      <td>391.0</td>\n",
       "    </tr>\n",
       "    <tr>\n",
       "      <th>TEGALWARU</th>\n",
       "      <td>9</td>\n",
       "      <td>101.0</td>\n",
       "    </tr>\n",
       "    <tr>\n",
       "      <th>TELAGASARI</th>\n",
       "      <td>14</td>\n",
       "      <td>335.0</td>\n",
       "    </tr>\n",
       "    <tr>\n",
       "      <th>TELUKJAMBE TIMUR</th>\n",
       "      <td>9</td>\n",
       "      <td>65.0</td>\n",
       "    </tr>\n",
       "  </tbody>\n",
       "</table>\n",
       "</div>"
      ],
      "text/plain": [
       "                  kelurahan (Mi)  waktu_tempuh (yi)\n",
       "kecamatan                                          \n",
       "BANYUSARI                     12              202.0\n",
       "BATUJAYA                      10              129.0\n",
       "CIBUAYA                       11              182.0\n",
       "CILAMAYA WETAN                12              108.0\n",
       "JATISARI                      14              160.0\n",
       "JAYAKERTA                      8               75.0\n",
       "KARAWANG TIMUR                 4               15.0\n",
       "KLARI                         13              145.0\n",
       "KOTA BARU                      9               26.0\n",
       "LEMAHABANG                    11               75.0\n",
       "PANGKALAN                      8              220.0\n",
       "PEDES                         12              391.0\n",
       "TEGALWARU                      9              101.0\n",
       "TELAGASARI                    14              335.0\n",
       "TELUKJAMBE TIMUR               9               65.0"
      ]
     },
     "execution_count": 161,
     "metadata": {},
     "output_type": "execute_result"
    }
   ],
   "source": [
    "# buat tabel\n",
    "sample_data = df[df['kecamatan'].isin(list_sample)].groupby('kecamatan').agg({'kelurahan':'count','waktu_tempuh':sum}).rename(columns={'kelurahan':'kelurahan (Mi)','waktu_tempuh':'waktu_tempuh (yi)'})\n",
    "\n",
    "# tampilkan\n",
    "sample_data"
   ]
  },
  {
   "cell_type": "code",
   "execution_count": 162,
   "metadata": {},
   "outputs": [
    {
     "name": "stdout",
     "output_type": "stream",
     "text": [
      "Total waktu tempuh di kecamatan sampel 2229.00 menit\n",
      "Total kelurahan di kecamatan sampel 156 kelurahan\n",
      "Rata-rata waktu tempuh adalah 14.29 menit\n"
     ]
    }
   ],
   "source": [
    "# hitung sample ratio (r)\n",
    "r = sample_data['waktu_tempuh (yi)'].sum() / sample_data['kelurahan (Mi)'].sum()\n",
    "\n",
    "print(f\"Total waktu tempuh di kecamatan sampel {sample_data['waktu_tempuh (yi)'].sum():.2f} menit\")\n",
    "print(f\"Total kelurahan di kecamatan sampel {sample_data['kelurahan (Mi)'].sum():.0f} kelurahan\")\n",
    "print(f\"Rata-rata waktu tempuh adalah {r:.2f} menit\")"
   ]
  },
  {
   "attachments": {},
   "cell_type": "markdown",
   "metadata": {},
   "source": [
    "#### Varians Cluster Sampel"
   ]
  },
  {
   "cell_type": "code",
   "execution_count": 163,
   "metadata": {},
   "outputs": [],
   "source": [
    "# kolom pembantu untuk menghitung varians\n",
    "sample_data['r_Mi'] = sample_data['kelurahan (Mi)'] * r\n",
    "sample_data['yi-r_Mi'] = sample_data['waktu_tempuh (yi)'] - sample_data['r_Mi']\n",
    "sample_data['yi-r_Mi^2'] = sample_data['yi-r_Mi'] ** 2"
   ]
  },
  {
   "cell_type": "code",
   "execution_count": 164,
   "metadata": {},
   "outputs": [
    {
     "name": "stdout",
     "output_type": "stream",
     "text": [
      "Varians cluster sampel adalah (89.45)^2\n"
     ]
    }
   ],
   "source": [
    "# hitung varians cluster sampel\n",
    "sc_sqr = sample_data['yi-r_Mi^2'].sum()/(n-1)\n",
    "\n",
    "print(f\"Varians cluster sampel adalah ({np.sqrt(sc_sqr):.2f})^2\")"
   ]
  },
  {
   "attachments": {},
   "cell_type": "markdown",
   "metadata": {},
   "source": [
    "#### Varians dari Total Populasi"
   ]
  },
  {
   "cell_type": "code",
   "execution_count": 165,
   "metadata": {},
   "outputs": [
    {
     "name": "stdout",
     "output_type": "stream",
     "text": [
      "Varians dari total populasi adalah (465.38)^2\n"
     ]
    }
   ],
   "source": [
    "# hitung varians dari total populasi\n",
    "var_est = N*(N-n)*sc_sqr/n\n",
    "\n",
    "print(f\"Varians dari total populasi adalah ({np.sqrt(var_est):.2f})^2\")"
   ]
  },
  {
   "attachments": {},
   "cell_type": "markdown",
   "metadata": {},
   "source": [
    "#### Varians dari Rata-Rata"
   ]
  },
  {
   "cell_type": "code",
   "execution_count": 166,
   "metadata": {},
   "outputs": [
    {
     "name": "stdout",
     "output_type": "stream",
     "text": [
      "Varians dari rata-rata adalah (1.54)^2\n"
     ]
    }
   ],
   "source": [
    "# hitung M\n",
    "M_bar = np.mean(sample_data['kelurahan (Mi)'])\n",
    "\n",
    "# hitung varians dari rata-rata\n",
    "var_mean = var_est / (N*M_bar)**2\n",
    "\n",
    "print(f\"Varians dari rata-rata adalah ({np.sqrt(var_mean):.2f})^2\")"
   ]
  },
  {
   "attachments": {},
   "cell_type": "markdown",
   "metadata": {},
   "source": [
    "#### 95% Confidence Interval"
   ]
  },
  {
   "cell_type": "code",
   "execution_count": 171,
   "metadata": {},
   "outputs": [
    {
     "name": "stdout",
     "output_type": "stream",
     "text": [
      "Dengan 95% CI, rata-rata waktu tempuh ke Puskesmas berada di 11.26 s.d 17.31 menit\n"
     ]
    }
   ],
   "source": [
    "# hitung z stat dengan 95% CI\n",
    "alpha = 0.05\n",
    "z_stat = stats.norm.ppf(1-alpha/2)\n",
    "\n",
    "# hitung nilai d\n",
    "d = z_stat * np.sqrt(var_mean)\n",
    "\n",
    "# hitung 95% CI\n",
    "lower_range = r - d\n",
    "upper_range = r + d\n",
    "\n",
    "print(f\"Dengan 95% CI, rata-rata waktu tempuh ke Puskesmas berada di {lower_range:.2f} s.d {upper_range:.2f} menit\")"
   ]
  }
 ],
 "metadata": {
  "kernelspec": {
   "display_name": "dakfisik",
   "language": "python",
   "name": "python3"
  },
  "language_info": {
   "codemirror_mode": {
    "name": "ipython",
    "version": 3
   },
   "file_extension": ".py",
   "mimetype": "text/x-python",
   "name": "python",
   "nbconvert_exporter": "python",
   "pygments_lexer": "ipython3",
   "version": "3.9.15"
  },
  "orig_nbformat": 4
 },
 "nbformat": 4,
 "nbformat_minor": 2
}
